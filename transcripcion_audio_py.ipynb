{
  "nbformat": 4,
  "nbformat_minor": 0,
  "metadata": {
    "colab": {
      "name": "transcripcion_audio_py.ipynb",
      "provenance": [],
      "collapsed_sections": [],
      "authorship_tag": "ABX9TyOHCsAf1AFKYwULwJ2YMYi0",
      "include_colab_link": true
    },
    "kernelspec": {
      "name": "python3",
      "display_name": "Python 3"
    },
    "language_info": {
      "name": "python"
    }
  },
  "cells": [
    {
      "cell_type": "markdown",
      "metadata": {
        "id": "view-in-github",
        "colab_type": "text"
      },
      "source": [
        "<a href=\"https://colab.research.google.com/github/CrysMorrison/audio_texto/blob/main/transcripcion_audio_py.ipynb\" target=\"_parent\"><img src=\"https://colab.research.google.com/assets/colab-badge.svg\" alt=\"Open In Colab\"/></a>"
      ]
    },
    {
      "cell_type": "code",
      "metadata": {
        "colab": {
          "base_uri": "https://localhost:8080/"
        },
        "id": "Sngewa0iL2cZ",
        "outputId": "bce32493-3eb3-4322-a4c1-c17d62a71604"
      },
      "source": [
        "import os\n",
        "ejemplo_dir = '/'\n",
        "contenido = os.listdir(ejemplo_dir)\n",
        "sonido = []\n",
        "for fichero in contenido:\n",
        "    if os.path.isfile(os.path.join(ejemplo_dir, fichero)) and fichero.endswith('.wav'):\n",
        "        sonido.append(fichero)\n",
        "print(sonido)\n",
        "print()"
      ],
      "execution_count": 49,
      "outputs": [
        {
          "output_type": "stream",
          "text": [
            "['50-3-Desayuno.wav', '50-2-Almuerzo.wav', '50-1-Comida.wav']\n"
          ],
          "name": "stdout"
        }
      ]
    },
    {
      "cell_type": "code",
      "metadata": {
        "colab": {
          "base_uri": "https://localhost:8080/"
        },
        "id": "6viJalKjNyYT",
        "outputId": "425bce77-72d4-4d9f-af92-14a1c513144e"
      },
      "source": [
        "!pip install speechrecognition"
      ],
      "execution_count": 10,
      "outputs": [
        {
          "output_type": "stream",
          "text": [
            "Collecting speechrecognition\n",
            "  Downloading SpeechRecognition-3.8.1-py2.py3-none-any.whl (32.8 MB)\n",
            "\u001b[K     |████████████████████████████████| 32.8 MB 32 kB/s \n",
            "\u001b[?25hInstalling collected packages: speechrecognition\n",
            "Successfully installed speechrecognition-3.8.1\n"
          ],
          "name": "stdout"
        }
      ]
    },
    {
      "cell_type": "code",
      "metadata": {
        "id": "2D3_thSUPU5a"
      },
      "source": [
        "import speech_recognition as sr"
      ],
      "execution_count": 11,
      "outputs": []
    },
    {
      "cell_type": "code",
      "metadata": {
        "id": "JeVpAT76Plou"
      },
      "source": [
        "r = sr.Recognizer()"
      ],
      "execution_count": 12,
      "outputs": []
    },
    {
      "cell_type": "code",
      "metadata": {
        "colab": {
          "base_uri": "https://localhost:8080/"
        },
        "id": "VtXYeBjXOHxA",
        "outputId": "134e0a97-d3e2-47a8-a6dd-dd7b9266c232"
      },
      "source": [
        "texto_final = []\n",
        "for i in sonido:\n",
        "  i = sr.AudioFile(\"/\"+i)\n",
        "  with i as source:\n",
        "    audio_analizar = r.record(source)\n",
        "    texto_1=r.recognize_google(audio_analizar, language=\"es-MX\")\n",
        "    texto_final.append(texto_1)\n",
        "\n",
        "print(texto_final)"
      ],
      "execution_count": 50,
      "outputs": [
        {
          "output_type": "stream",
          "text": [
            "['Buenos días mi nombre es neidi Paulette Ortega hoy el desayuno preparé empanadas de harina harina pan arroz cal huevo con agua de panelitas la harina lamaze con mantequilla queso está Muchas gracias', 'Buenas tardes envío foto de el almuerzo preparé sopa de avena y arroz frijoles carne frita papá papá cocida ensalada de tomate cebolla aguacate los ingredientes que utilizan fue a ver a don Pancho en hojuelas para la sopa zanahoria auyama tomate cebolla y un huesito de carne para el sabor para los primeros utilice carne hizo tomate cebolla auyama rama de apio y el arroz y la carne y jugo de maracuyá hasta', 'muy buenas noches Mi nombre es neidi Ortega envío foto de lo que prepare para la comida hice agua de panela pan integral Los Pericos se dice tomate cebolla ajo cebolla cabezona 6 huevos y panela Esa fue la cena que dice muchas gracias']\n"
          ],
          "name": "stdout"
        }
      ]
    }
  ]
}